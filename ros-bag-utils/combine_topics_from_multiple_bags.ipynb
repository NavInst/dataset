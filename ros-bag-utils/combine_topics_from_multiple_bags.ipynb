{
 "cells": [
  {
   "cell_type": "code",
   "execution_count": null,
   "metadata": {},
   "outputs": [],
   "source": [
    "import rosbag\n",
    "from rosbag import Bag\n",
    "import os\n",
    "import sys"
   ]
  },
  {
   "cell_type": "code",
   "execution_count": null,
   "metadata": {},
   "outputs": [],
   "source": [
    "####################################################\n",
    "########## Modify the Configuration  Here ##########\n",
    "####################################################\n",
    "\n",
    "#Specify the path where the bags are stored.\n",
    "main_path = r\"./2023-11-03-11-07-11\"\n",
    "\n",
    "# Define a dictionary where the key is the bag file and the value is a list of topics to merge\n",
    "bags_and_topics = {\n",
    "    'reference.bag': ['/novatel/reference/postprocessed/inspva','/novatel/reference/postprocessed/inspvax'],\n",
    "    'imus.bag': ['/xsens/imu', '/obd2/speed'],\n",
    "    'gnss.bag': ['/xsens/gnss'],\n",
    "    # Add more bags and their corresponding topics here\n",
    "}\n",
    "\n",
    "\n",
    "# Path of the new bag file\n",
    "output_bag_path = os.path.join(main_path,'merged.bag')"
   ]
  },
  {
   "cell_type": "code",
   "execution_count": null,
   "metadata": {},
   "outputs": [],
   "source": [
    "#Helper functions\n",
    "# Function to check if all bags are available\n",
    "def check_bags_exist(main_path,bag_files):\n",
    "    missing_bags = [bag for bag in bag_files if not os.path.exists(os.path.join(main_path,bag))]\n",
    "    if missing_bags:\n",
    "        print(f\"Error: The following bag files are missing: {missing_bags}\")\n",
    "        return False\n",
    "    return True\n",
    "\n",
    "# Function to check if each bag contains the specified topics\n",
    "def check_topics_in_bags(main_path,bags_and_topics):\n",
    "    for bag_file, topics in bags_and_topics.items():\n",
    "        bag_file_path = os.path.join(main_path,bag_file)\n",
    "        with Bag(bag_file_path, 'r') as bag:\n",
    "            available_topics = bag.get_type_and_topic_info()[1].keys()\n",
    "            missing_topics = [topic for topic in topics if topic not in available_topics]\n",
    "            if missing_topics:\n",
    "                print(f\"Error: The following topics are missing in {bag_file}: {missing_topics}\")\n",
    "                return False\n",
    "    return True"
   ]
  },
  {
   "cell_type": "code",
   "execution_count": null,
   "metadata": {},
   "outputs": [],
   "source": [
    "# Perform some checks\n",
    "if check_bags_exist(main_path,bags_and_topics.keys()) and check_topics_in_bags(main_path,bags_and_topics):\n",
    "    print(\"Bags and Topics are available\")"
   ]
  },
  {
   "cell_type": "code",
   "execution_count": null,
   "metadata": {},
   "outputs": [],
   "source": [
    "# Open a new bag file to write the merged data\n",
    "with Bag(output_bag_path, 'w') as outbag:\n",
    "    for bag_file, topics_to_merge in bags_and_topics.items():\n",
    "        bag_file_path = os.path.join(main_path,bag_file)\n",
    "        \n",
    "        # Open each bag file\n",
    "        with Bag(bag_file_path, 'r') as inbag:\n",
    "            print(\"\\n----------------------------------------\")\n",
    "            #bag timing info\n",
    "            start_time = inbag.get_start_time()\n",
    "            end_time = inbag.get_end_time()\n",
    "            total_duration = end_time - start_time\n",
    "            last_time = start_time\n",
    "\n",
    "            for topic, msg, t in inbag.read_messages():\n",
    "                # Calculate progress\n",
    "                current_time = t.to_sec()\n",
    "                elapsed_time = current_time - start_time\n",
    "                progress = (elapsed_time / total_duration) * 100\n",
    "\n",
    "                # Print progress Every second\n",
    "                if current_time - last_time >= 1: \n",
    "                    sys.stdout.write(f\"\\rProcessing {bag_file}: {progress:.2f}% complete.\")\n",
    "                    sys.stdout.flush()\n",
    "                    last_time = current_time\n",
    "                    \n",
    "                if topic in topics_to_merge:\n",
    "                    outbag.write(topic, msg, t)\n",
    "\n",
    "        sys.stdout.write(f\"\\rProcessing bag: 100.0% complete\")\n",
    "        sys.stdout.flush()\n",
    "\n",
    "\n",
    "print(\"\\n----------------------------------------\")\n",
    "print(\"Finished!\")"
   ]
  },
  {
   "cell_type": "code",
   "execution_count": null,
   "metadata": {},
   "outputs": [],
   "source": []
  }
 ],
 "metadata": {
  "kernelspec": {
   "display_name": "Python 3",
   "language": "python",
   "name": "python3"
  },
  "language_info": {
   "codemirror_mode": {
    "name": "ipython",
    "version": 3
   },
   "file_extension": ".py",
   "mimetype": "text/x-python",
   "name": "python",
   "nbconvert_exporter": "python",
   "pygments_lexer": "ipython3",
   "version": "3.8.10"
  }
 },
 "nbformat": 4,
 "nbformat_minor": 2
}
