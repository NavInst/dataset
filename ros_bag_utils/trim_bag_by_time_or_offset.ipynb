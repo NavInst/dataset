{
 "cells": [
  {
   "cell_type": "code",
   "execution_count": null,
   "metadata": {},
   "outputs": [],
   "source": [
    "import rospy\n",
    "import rosbag\n",
    "import sys\n",
    "import os"
   ]
  },
  {
   "cell_type": "code",
   "execution_count": null,
   "metadata": {},
   "outputs": [],
   "source": [
    "####################################################\n",
    "########## Modify the Configuration  Here ##########\n",
    "####################################################\n",
    "\n",
    "# Replace with paths for your .bag files\n",
    "bag_file = \"2023-11-03-11-07-11/imus.bag\"  \n",
    "output_bag_file = \"2023-11-03-11-07-11/imus_trimmed.bag\"\n",
    "\n",
    "#Start time options (Set only One while other should be None)\n",
    "# Specify the start time in UNIX time (e.g., 1699024032.0)\n",
    "start_unix_time = None \n",
    "#OR\n",
    "# Specify the start time offset in seconds from the beginning of the bag \n",
    "start_time_offset =  10\n",
    "\n",
    "# Duration in seconds for the trimmed bag\n",
    "duration_seconds = 30  "
   ]
  },
  {
   "cell_type": "code",
   "execution_count": null,
   "metadata": {},
   "outputs": [],
   "source": [
    "# Initial Checks. Must pass before you proceed\n",
    "if not os.path.exists(bag_file):\n",
    "    raise FileNotFoundError(f\"The bag file {bag_file} does not exist.\")\n",
    "\n",
    "\n",
    "if start_unix_time is None and start_time_offset is None:\n",
    "    raise ValueError(f\"You must specify start_unix_time or start_time_offset. Cannot proceed.\")\n",
    "\n",
    "if not start_time_offset is None:\n",
    "    if start_time_offset < 0:\n",
    "        raise ValueError(f\"Error: Specified start_time_offset {start_time_offset}! must be positive offset. Cannot proceed.\")\n",
    "\n",
    "if duration_seconds < 0:\n",
    "    raise ValueError(f\"Error: Specified duration_seconds {duration_seconds}! must be positive. Cannot proceed.\")\n"
   ]
  },
  {
   "cell_type": "code",
   "execution_count": null,
   "metadata": {},
   "outputs": [],
   "source": [
    "# Open the input bag file\n",
    "with rosbag.Bag(bag_file, 'r') as input_bag:\n",
    "    # Get the start time of the bag\n",
    "    bag_start_time = input_bag.get_start_time()\n",
    "    bag_end_time = input_bag.get_end_time()\n",
    "\n",
    "    \n",
    "    # Determine the start time for trimming\n",
    "    if start_unix_time:\n",
    "        start_time = start_unix_time\n",
    "        if start_unix_time < bag_start_time:\n",
    "            print(f\"Warning: Specified start UNIX time {start_unix_time} is before the bag start time. Using bag start time {bag_start_time} instead.\")\n",
    "            start_time = bag_start_time\n",
    "        elif start_unix_time > bag_end_time:\n",
    "            raise ValueError(f\"Error: Specified start UNIX time {start_unix_time} is after the bag end time {bag_end_time}. Cannot proceed.\")\n",
    "        else:\n",
    "            start_time = start_unix_time        \n",
    "    else:\n",
    "        start_time = bag_start_time + start_time_offset\n",
    "\n",
    "    # Determine the end time for trimming\n",
    "    end_time = start_time + duration_seconds\n",
    "    if end_time > bag_end_time:\n",
    "        duration_seconds = bag_end_time - start_time\n",
    "        print(f\"Warning: Specified duration leads to an end time beyond the bag's end time. Adjusting duration to {duration_seconds} seconds.\")\n",
    "        end_time = bag_end_time\n",
    "    \n",
    "\n",
    "    print(f'Start trimming bag from {start_time} for a duration of {duration_seconds} seconds')\n",
    "\n",
    "    last_time = start_time\n",
    "    with rosbag.Bag(output_bag_file, 'w') as output_bag:\n",
    "        # Iterate through the messages in the input bag\n",
    "        for topic, msg, t in input_bag.read_messages(start_time=rospy.rostime.Time.from_sec(start_time), end_time=rospy.rostime.Time.from_sec(end_time)):\n",
    "            current_time = t.to_sec()\n",
    "            elapsed_time = current_time - start_time\n",
    "            progress = (elapsed_time / duration_seconds) * 100\n",
    "\n",
    "            # Print progress Every second\n",
    "            if current_time - last_time >= 1: \n",
    "                sys.stdout.write(f\"\\rProcessing bag: {progress:.2f}% complete\")\n",
    "                sys.stdout.flush()\n",
    "                last_time = current_time\n",
    "                \n",
    "            output_bag.write(topic, msg, t)\n",
    "    \n",
    "    sys.stdout.write(f\"\\rProcessing bag: 100.0% complete\")\n",
    "    sys.stdout.flush()\n",
    "    print()\n",
    "    print(f\"Trimmed bag saved to {output_bag_file}\")"
   ]
  },
  {
   "cell_type": "code",
   "execution_count": null,
   "metadata": {},
   "outputs": [],
   "source": []
  }
 ],
 "metadata": {
  "kernelspec": {
   "display_name": "Python 3",
   "language": "python",
   "name": "python3"
  },
  "language_info": {
   "codemirror_mode": {
    "name": "ipython",
    "version": 3
   },
   "file_extension": ".py",
   "mimetype": "text/x-python",
   "name": "python",
   "nbconvert_exporter": "python",
   "pygments_lexer": "ipython3",
   "version": "3.8.10"
  }
 },
 "nbformat": 4,
 "nbformat_minor": 2
}
